{
 "cells": [
  {
   "cell_type": "markdown",
   "metadata": {
    "id": "xBomfjAP9mPL"
   },
   "source": [
    "## Generating Synthetic Data (CTGAN)"
   ]
  },
  {
   "cell_type": "markdown",
   "metadata": {
    "id": "hUIiobStBlGj"
   },
   "source": [
    "## Install CTGAN"
   ]
  },
  {
   "cell_type": "code",
   "execution_count": null,
   "metadata": {
    "colab": {
     "base_uri": "https://localhost:8080/"
    },
    "executionInfo": {
     "elapsed": 66144,
     "status": "ok",
     "timestamp": 1669870571511,
     "user": {
      "displayName": "정채윤",
      "userId": "02583219540075365890"
     },
     "user_tz": -540
    },
    "id": "ESm3GVJZBiER",
    "outputId": "30f39db5-aa44-40df-c9a6-07e532d9a826"
   },
   "outputs": [],
   "source": [
    "import os, sys\n",
    "from google.colab import drive\n",
    "drive.mount('/content/drive')"
   ]
  },
  {
   "cell_type": "code",
   "execution_count": null,
   "metadata": {
    "colab": {
     "base_uri": "https://localhost:8080/",
     "height": 885
    },
    "executionInfo": {
     "elapsed": 8447,
     "status": "ok",
     "timestamp": 1669870579949,
     "user": {
      "displayName": "정채윤",
      "userId": "02583219540075365890"
     },
     "user_tz": -540
    },
    "id": "tltuJtv2AsyG",
    "outputId": "aac41ebc-3d54-4752-bda3-881138ac9117"
   },
   "outputs": [],
   "source": [
    "# Install CTGAN, generative model for tabular data.\n",
    "my_path = '/content/notebooks'\n",
    "os.symlink('/content/drive/MyDrive/Colab Notebooks/my_env', my_path)\n",
    "sys.path.insert(0, my_path)\n",
    "!pip install --target=$pack_path ctgan"
   ]
  },
  {
   "cell_type": "markdown",
   "metadata": {
    "id": "oR8me9M2h-60"
   },
   "source": [
    "## Load Modules"
   ]
  },
  {
   "cell_type": "code",
   "execution_count": null,
   "metadata": {
    "colab": {
     "base_uri": "https://localhost:8080/"
    },
    "executionInfo": {
     "elapsed": 2983,
     "status": "ok",
     "timestamp": 1669870582926,
     "user": {
      "displayName": "정채윤",
      "userId": "02583219540075365890"
     },
     "user_tz": -540
    },
    "id": "L4X72wyt9mPM",
    "outputId": "08e3c06e-e80c-4148-a1ed-222304adb83d"
   },
   "outputs": [],
   "source": [
    "# set device: GPU\n",
    "import torch\n",
    "torch.cuda.is_available()"
   ]
  },
  {
   "cell_type": "code",
   "execution_count": null,
   "metadata": {
    "executionInfo": {
     "elapsed": 1846,
     "status": "ok",
     "timestamp": 1669870584767,
     "user": {
      "displayName": "정채윤",
      "userId": "02583219540075365890"
     },
     "user_tz": -540
    },
    "id": "ydU9w0r19mPN"
   },
   "outputs": [],
   "source": [
    "import pandas as pd\n",
    "import numpy as np\n",
    "import matplotlib.pyplot as plt\n",
    "import copy\n",
    "import time\n",
    "import pickle\n",
    "from collections import defaultdict\n",
    "from itertools import islice, combinations\n",
    "from datetime import datetime as dt\n",
    "import warnings\n",
    "warnings.filterwarnings(\"ignore\")\n",
    "import seaborn as sns\n",
    "import matplotlib.pyplot as plt\n",
    "\n",
    "from ctgan import CTGAN\n"
   ]
  },
  {
   "cell_type": "markdown",
   "metadata": {
    "id": "I7awf4UQ9mPP"
   },
   "source": [
    "## Preprocess Source Data"
   ]
  },
  {
   "cell_type": "code",
   "execution_count": null,
   "metadata": {
    "colab": {
     "base_uri": "https://localhost:8080/"
    },
    "executionInfo": {
     "elapsed": 5,
     "status": "ok",
     "timestamp": 1669870584767,
     "user": {
      "displayName": "정채윤",
      "userId": "02583219540075365890"
     },
     "user_tz": -540
    },
    "id": "xWStdyXlLNbg",
    "outputId": "9372b256-d06e-4b1e-916b-9d034f58bcc0"
   },
   "outputs": [],
   "source": [
    "%cd drive/MyDrive/Customs-Declaration-Datasets-en/"
   ]
  },
  {
   "cell_type": "code",
   "execution_count": null,
   "metadata": {
    "executionInfo": {
     "elapsed": 1108,
     "status": "ok",
     "timestamp": 1669870585871,
     "user": {
      "displayName": "정채윤",
      "userId": "02583219540075365890"
     },
     "user_tz": -540
    },
    "id": "k8jcIN4V9mPP"
   },
   "outputs": [],
   "source": [
    "# Load train data\n",
    "df_raw=pd.read_csv('./data/df_syn_eng.csv', encoding='utf-8-sig')"
   ]
  },
  {
   "cell_type": "code",
   "execution_count": null,
   "metadata": {
    "executionInfo": {
     "elapsed": 14,
     "status": "ok",
     "timestamp": 1669870585871,
     "user": {
      "displayName": "정채윤",
      "userId": "02583219540075365890"
     },
     "user_tz": -540
    },
    "id": "Xoz1BM7w9mPP"
   },
   "outputs": [],
   "source": [
    "# Select columns to use\n",
    "df_org=df_raw[[\"Declaration ID\", \"Date\", \"Office ID\", \"Process Type\", \"Import Type\", \"Import Use\", \"Payment Type\", \n",
    "                  \"Mode of Transport\", \"Declarant ID\", \"Importer ID\", \"Seller ID\", \"Courier ID\", \n",
    "                  \"HS10 Code\", \"Country of Departure\", \"Country of Origin\",  \"Tax Rate\", \"Tax Type\", \n",
    "                   \"Country of Origin Indicator\", \"Net Mass\", \"Item Price\", \"Fraud\", \"Critical Fraud\"]]"
   ]
  },
  {
   "cell_type": "code",
   "execution_count": null,
   "metadata": {
    "executionInfo": {
     "elapsed": 13,
     "status": "ok",
     "timestamp": 1669870585872,
     "user": {
      "displayName": "정채윤",
      "userId": "02583219540075365890"
     },
     "user_tz": -540
    },
    "id": "kzxjkd6r9mPP"
   },
   "outputs": [],
   "source": [
    "# Since CTGAN cannot handle large input size, we sample 3000 Train Data from Source Data\n",
    "df_sample=df_org.sample(3000, replace=False)\n",
    "df_sample.to_csv('./data/df_sample.csv', index=False, encoding='utf-8-sig')"
   ]
  },
  {
   "cell_type": "code",
   "execution_count": null,
   "metadata": {
    "executionInfo": {
     "elapsed": 13,
     "status": "ok",
     "timestamp": 1669870585872,
     "user": {
      "displayName": "정채윤",
      "userId": "02583219540075365890"
     },
     "user_tz": -540
    },
    "id": "CrQ5iVMG9mPP"
   },
   "outputs": [],
   "source": [
    "# Aggregate Reletive Columns\n",
    "cols = ['HS10 Code', 'Country of Departure', 'Country of Origin', 'Tax Rate', 'Tax Type', 'Net Mass','Fraud', 'Critical Fraud']\n",
    "df_sample['Aggregated'] =df_sample[cols].apply(lambda row: '^'.join(row.values.astype(str)), axis=1)\n",
    "df_sample=df_sample.drop(cols, axis=1)\n",
    "df_sample=df_sample.drop(['Item Price'], axis=1)"
   ]
  },
  {
   "cell_type": "code",
   "execution_count": null,
   "metadata": {
    "executionInfo": {
     "elapsed": 12,
     "status": "ok",
     "timestamp": 1669870585872,
     "user": {
      "displayName": "정채윤",
      "userId": "02583219540075365890"
     },
     "user_tz": -540
    },
    "id": "3hHF-6B39mPQ"
   },
   "outputs": [],
   "source": [
    "df_sample['Date']=df_sample['Date'].astype('str')"
   ]
  },
  {
   "cell_type": "code",
   "execution_count": null,
   "metadata": {
    "colab": {
     "base_uri": "https://localhost:8080/",
     "height": 424
    },
    "executionInfo": {
     "elapsed": 12,
     "status": "ok",
     "timestamp": 1669870585873,
     "user": {
      "displayName": "정채윤",
      "userId": "02583219540075365890"
     },
     "user_tz": -540
    },
    "id": "-4FSz8kuEe96",
    "outputId": "9fead8ad-e968-4c75-9be8-e82d43760ce6"
   },
   "outputs": [],
   "source": [
    "df_sample"
   ]
  },
  {
   "cell_type": "markdown",
   "metadata": {
    "id": "Px_pycbP9mPQ"
   },
   "source": [
    "# Run CTGAN"
   ]
  },
  {
   "cell_type": "code",
   "execution_count": null,
   "metadata": {
    "executionInfo": {
     "elapsed": 9,
     "status": "ok",
     "timestamp": 1669870585873,
     "user": {
      "displayName": "정채윤",
      "userId": "02583219540075365890"
     },
     "user_tz": -540
    },
    "id": "ZlJ4IN9W9mPQ"
   },
   "outputs": [],
   "source": [
    "categorical_columns =['Declaration ID', 'Date','Process Type','Declarant ID','Importer ID','Seller ID',\n",
    "                      'Courier ID','Country of Origin Indicator','Aggregated']"
   ]
  },
  {
   "cell_type": "code",
   "execution_count": null,
   "metadata": {
    "colab": {
     "base_uri": "https://localhost:8080/"
    },
    "executionInfo": {
     "elapsed": 312461,
     "status": "ok",
     "timestamp": 1669870898325,
     "user": {
      "displayName": "정채윤",
      "userId": "02583219540075365890"
     },
     "user_tz": -540
    },
    "id": "h4yEHCBl9mPQ",
    "outputId": "440e63bd-0d78-4b74-83b9-d6cd2bb16bb4",
    "scrolled": true
   },
   "outputs": [],
   "source": [
    "# It will take around 5~10 min for training 100 epochs.\n",
    "ctgan = CTGAN(verbose=True)\n",
    "ctgan.fit(df_sample, categorical_columns, epochs = 100)"
   ]
  },
  {
   "cell_type": "code",
   "execution_count": null,
   "metadata": {
    "executionInfo": {
     "elapsed": 1245,
     "status": "ok",
     "timestamp": 1669870899548,
     "user": {
      "displayName": "정채윤",
      "userId": "02583219540075365890"
     },
     "user_tz": -540
    },
    "id": "ZKGNroUu9mPR"
   },
   "outputs": [],
   "source": [
    "# Create data as many as the number of sampled data\n",
    "count_row = df_sample.shape[0] \n",
    "df_syn = ctgan.sample(count_row)"
   ]
  },
  {
   "cell_type": "code",
   "execution_count": null,
   "metadata": {
    "colab": {
     "base_uri": "https://localhost:8080/",
     "height": 424
    },
    "executionInfo": {
     "elapsed": 4,
     "status": "ok",
     "timestamp": 1669870899548,
     "user": {
      "displayName": "정채윤",
      "userId": "02583219540075365890"
     },
     "user_tz": -540
    },
    "id": "7Q5fFvhy9mPR",
    "outputId": "b84a0016-c3a1-4eb3-fedf-9d48f06cc724"
   },
   "outputs": [],
   "source": [
    "df_syn"
   ]
  },
  {
   "cell_type": "code",
   "execution_count": null,
   "metadata": {
    "executionInfo": {
     "elapsed": 781,
     "status": "ok",
     "timestamp": 1669870900326,
     "user": {
      "displayName": "정채윤",
      "userId": "02583219540075365890"
     },
     "user_tz": -540
    },
    "id": "137KoFUG9mPR"
   },
   "outputs": [],
   "source": [
    "# Split aggregated column to original form\n",
    "df_syn['HS10 Code']=df_syn[\"Aggregated\"].str.split('^').str[0]\n",
    "df_syn['Country of Departure']=df_syn[\"Aggregated\"].str.split('^').str[1]\n",
    "df_syn['Country of Origin']=df_syn[\"Aggregated\"].str.split('^').str[2]\n",
    "df_syn['Tax Rate']=df_syn[\"Aggregated\"].str.split('^').str[3]\n",
    "df_syn['Tax Type']=df_syn[\"Aggregated\"].str.split('^').str[4]\n",
    "df_syn['Net Mass']=df_syn[\"Aggregated\"].str.split('^').str[5]\n",
    "df_syn['Fraud']=df_syn[\"Aggregated\"].str.split('^').str[6]\n",
    "df_syn['Critical Fraud']=df_syn[\"Aggregated\"].str.split('^').str[7]\n",
    "df_syn = df_syn.drop(['Aggregated'],axis=1)"
   ]
  },
  {
   "cell_type": "code",
   "execution_count": null,
   "metadata": {},
   "outputs": [],
   "source": [
    "df_syn[\"HS10 Code\"] = df_syn[\"HS10 Code\"].astype(str).str.zfill(10)\n",
    "df_syn[\"HS10 Code\"] = df_syn[\"HS10 Code\"].apply(lambda x : x[:-4])\n",
    "df_syn = df_syn.rename(columns={'HS10 Code': 'HS6 Code'})"
   ]
  },
  {
   "cell_type": "code",
   "execution_count": null,
   "metadata": {
    "colab": {
     "base_uri": "https://localhost:8080/",
     "height": 468
    },
    "executionInfo": {
     "elapsed": 11,
     "status": "ok",
     "timestamp": 1669870900327,
     "user": {
      "displayName": "정채윤",
      "userId": "02583219540075365890"
     },
     "user_tz": -540
    },
    "id": "WD1QW4P79mPR",
    "outputId": "7ed34ade-121d-40d2-9570-6915ca9a6bf7",
    "scrolled": true
   },
   "outputs": [],
   "source": [
    "# This is the generated data!\n",
    "df_syn"
   ]
  },
  {
   "cell_type": "markdown",
   "metadata": {
    "id": "z3Z3npH79mPS"
   },
   "source": [
    "# Save Generated Data"
   ]
  },
  {
   "cell_type": "code",
   "execution_count": null,
   "metadata": {
    "executionInfo": {
     "elapsed": 9,
     "status": "ok",
     "timestamp": 1669870900327,
     "user": {
      "displayName": "정채윤",
      "userId": "02583219540075365890"
     },
     "user_tz": -540
    },
    "id": "0Cuf7yXk9mPS"
   },
   "outputs": [],
   "source": [
    "df_syn.to_csv('./data/df_syn_example.csv', index=False)"
   ]
  }
 ],
 "metadata": {
  "accelerator": "GPU",
  "colab": {
   "provenance": []
  },
  "gpuClass": "standard",
  "kernelspec": {
   "display_name": "Python 3",
   "language": "python",
   "name": "python3"
  },
  "language_info": {
   "codemirror_mode": {
    "name": "ipython",
    "version": 3
   },
   "file_extension": ".py",
   "mimetype": "text/x-python",
   "name": "python",
   "nbconvert_exporter": "python",
   "pygments_lexer": "ipython3",
   "version": "3.8.8"
  }
 },
 "nbformat": 4,
 "nbformat_minor": 1
}
